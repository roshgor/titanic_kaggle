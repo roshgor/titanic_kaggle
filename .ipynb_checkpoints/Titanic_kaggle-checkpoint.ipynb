{
 "cells": [
  {
   "cell_type": "code",
   "execution_count": 80,
   "metadata": {
    "collapsed": true
   },
   "outputs": [],
   "source": [
    "import pandas as pd\n",
    "import numpy as np\n",
    "from sklearn.ensemble import RandomForestClassifier\n",
    "\n",
    "\n",
    "train_df = pd.read_csv('train.csv')\n",
    "test_df = pd.read_csv('test.csv')\n",
    "\n",
    "y = train_df.pop('Survived') #move survived column to y\n",
    "\n"
   ]
  },
  {
   "cell_type": "code",
   "execution_count": 81,
   "metadata": {
    "collapsed": false
   },
   "outputs": [
    {
     "name": "stdout",
     "output_type": "stream",
     "text": [
      "['PassengerId', 'Pclass', 'Age', 'SibSp', 'Parch', 'Fare']\n"
     ]
    }
   ],
   "source": [
    "#train_df.describe()\n",
    "\n",
    "train_df.Age.fillna(train_df.Age.mean(), inplace=True)\n",
    "test_df.fillna(test_df.mean(), inplace=True)\n",
    "\n",
    "numeric_variables = list(train_df.dtypes[train_df.dtypes!='object'].index)\n",
    "\n",
    "print numeric_variables\n",
    "\n",
    "features_train = train_df[numeric_variables]\n",
    "labels_train = y\n",
    "\n",
    "features_test = test_df[numeric_variables]"
   ]
  },
  {
   "cell_type": "code",
   "execution_count": 79,
   "metadata": {
    "collapsed": false
   },
   "outputs": [
    {
     "name": "stdout",
     "output_type": "stream",
     "text": [
      "     PassengerId  Pclass       Age  SibSp  Parch      Fare\n",
      "0            892       3  34.50000      0      0    7.8292\n",
      "1            893       3  47.00000      1      0    7.0000\n",
      "2            894       2  62.00000      0      0    9.6875\n",
      "3            895       3  27.00000      0      0    8.6625\n",
      "4            896       3  22.00000      1      1   12.2875\n",
      "5            897       3  14.00000      0      0    9.2250\n",
      "6            898       3  30.00000      0      0    7.6292\n",
      "7            899       2  26.00000      1      1   29.0000\n",
      "8            900       3  18.00000      0      0    7.2292\n",
      "9            901       3  21.00000      2      0   24.1500\n",
      "10           902       3  30.27259      0      0    7.8958\n",
      "11           903       1  46.00000      0      0   26.0000\n",
      "12           904       1  23.00000      1      0   82.2667\n",
      "13           905       2  63.00000      1      0   26.0000\n",
      "14           906       1  47.00000      1      0   61.1750\n",
      "15           907       2  24.00000      1      0   27.7208\n",
      "16           908       2  35.00000      0      0   12.3500\n",
      "17           909       3  21.00000      0      0    7.2250\n",
      "18           910       3  27.00000      1      0    7.9250\n",
      "19           911       3  45.00000      0      0    7.2250\n",
      "20           912       1  55.00000      1      0   59.4000\n",
      "21           913       3   9.00000      0      1    3.1708\n",
      "22           914       1  30.27259      0      0   31.6833\n",
      "23           915       1  21.00000      0      1   61.3792\n",
      "24           916       1  48.00000      1      3  262.3750\n",
      "25           917       3  50.00000      1      0   14.5000\n",
      "26           918       1  22.00000      0      1   61.9792\n",
      "27           919       3  22.50000      0      0    7.2250\n",
      "28           920       1  41.00000      0      0   30.5000\n",
      "29           921       3  30.27259      2      0   21.6792\n",
      "..           ...     ...       ...    ...    ...       ...\n",
      "270         1162       1  46.00000      0      0   75.2417\n",
      "271         1163       3  30.27259      0      0    7.7500\n",
      "272         1164       1  26.00000      1      0  136.7792\n",
      "273         1165       3  30.27259      1      0   15.5000\n",
      "274         1166       3  30.27259      0      0    7.2250\n",
      "275         1167       2  20.00000      1      0   26.0000\n",
      "276         1168       2  28.00000      0      0   10.5000\n",
      "277         1169       2  40.00000      1      0   26.0000\n",
      "278         1170       2  30.00000      1      0   21.0000\n",
      "279         1171       2  22.00000      0      0   10.5000\n",
      "280         1172       3  23.00000      0      0    8.6625\n",
      "281         1173       3   0.75000      1      1   13.7750\n",
      "282         1174       3  30.27259      0      0    7.7500\n",
      "283         1175       3   9.00000      1      1   15.2458\n",
      "284         1176       3   2.00000      1      1   20.2125\n",
      "285         1177       3  36.00000      0      0    7.2500\n",
      "286         1178       3  30.27259      0      0    7.2500\n",
      "287         1179       1  24.00000      1      0   82.2667\n",
      "288         1180       3  30.27259      0      0    7.2292\n",
      "289         1181       3  30.27259      0      0    8.0500\n",
      "290         1182       1  30.27259      0      0   39.6000\n",
      "291         1183       3  30.00000      0      0    6.9500\n",
      "292         1184       3  30.27259      0      0    7.2292\n",
      "293         1185       1  53.00000      1      1   81.8583\n",
      "294         1186       3  36.00000      0      0    9.5000\n",
      "295         1187       3  26.00000      0      0    7.8958\n",
      "296         1188       2   1.00000      1      2   41.5792\n",
      "297         1189       3  30.27259      2      0   21.6792\n",
      "298         1190       1  30.00000      0      0   45.5000\n",
      "299         1191       3  29.00000      0      0    7.8542\n",
      "\n",
      "[300 rows x 6 columns]\n"
     ]
    }
   ],
   "source": []
  },
  {
   "cell_type": "code",
   "execution_count": 82,
   "metadata": {
    "collapsed": false
   },
   "outputs": [
    {
     "data": {
      "text/plain": [
       "RandomForestClassifier(bootstrap=True, class_weight=None, criterion='gini',\n",
       "            max_depth=None, max_features='auto', max_leaf_nodes=None,\n",
       "            min_samples_leaf=1, min_samples_split=2,\n",
       "            min_weight_fraction_leaf=0.0, n_estimators=10, n_jobs=1,\n",
       "            oob_score=False, random_state=None, verbose=0,\n",
       "            warm_start=False)"
      ]
     },
     "execution_count": 82,
     "metadata": {},
     "output_type": "execute_result"
    }
   ],
   "source": [
    "clf = RandomForestClassifier(n_estimators = 10)\n",
    "clf.fit(features_train, labels_train)\n"
   ]
  },
  {
   "cell_type": "code",
   "execution_count": 84,
   "metadata": {
    "collapsed": false
   },
   "outputs": [],
   "source": [
    "pred = clf.predict(features_test)"
   ]
  },
  {
   "cell_type": "code",
   "execution_count": 91,
   "metadata": {
    "collapsed": false
   },
   "outputs": [],
   "source": [
    "submission = pd.DataFrame({'PassengerId' : features_test['PassengerId'],\n",
    "                            'Survived' : pred})\n",
    "\n",
    "submission.to_csv('titanic_1', index= False)"
   ]
  },
  {
   "cell_type": "code",
   "execution_count": 94,
   "metadata": {
    "collapsed": false
   },
   "outputs": [
    {
     "name": "stdout",
     "output_type": "stream",
     "text": [
      "[ 0.29877118  0.08859881  0.25788058  0.05001804  0.03927614  0.26545524]\n"
     ]
    },
    {
     "data": {
      "text/plain": [
       "['PassengerId', 'Pclass', 'Age', 'SibSp', 'Parch', 'Fare']"
      ]
     },
     "execution_count": 94,
     "metadata": {},
     "output_type": "execute_result"
    }
   ],
   "source": [
    "print clf.feature_importances_\n",
    "numeric_variables"
   ]
  }
 ],
 "metadata": {
  "anaconda-cloud": {},
  "kernelspec": {
   "display_name": "Python 2",
   "language": "python",
   "name": "python2"
  },
  "language_info": {
   "codemirror_mode": {
    "name": "ipython",
    "version": 2
   },
   "file_extension": ".py",
   "mimetype": "text/x-python",
   "name": "python",
   "nbconvert_exporter": "python",
   "pygments_lexer": "ipython2",
   "version": "2.7.12"
  }
 },
 "nbformat": 4,
 "nbformat_minor": 2
}
